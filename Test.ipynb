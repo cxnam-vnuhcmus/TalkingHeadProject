{
 "cells": [
  {
   "cell_type": "code",
   "execution_count": 11,
   "metadata": {},
   "outputs": [
    {
     "name": "stdout",
     "output_type": "stream",
     "text": [
      "torch.Size([1, 128, 64, 64])\n"
     ]
    }
   ],
   "source": [
    "import torch\n",
    "from torch import nn\n",
    "\n",
    "m = nn.Conv2d(256, 128, kernel_size=3, padding=1, groups=1, stride=1)\n",
    "input = torch.randn(1, 256, 64, 64)\n",
    "output = m(input)\n",
    "print(output.shape)"
   ]
  },
  {
   "cell_type": "code",
   "execution_count": 3,
   "metadata": {},
   "outputs": [
    {
     "name": "stdout",
     "output_type": "stream",
     "text": [
      "[Errno 2] No such file or directory: 'my_framework_1/content_encoder/modules'\n",
      "/root/TalkingHead/my_framework_1/content_encoder/modules\n",
      "torch.Size([1, 3, 64, 64])\n"
     ]
    }
   ],
   "source": [
    "%cd my_framework_1/content_encoder/modules\n",
    "\n",
    "import torch\n",
    "from net_module import AntiAliasInterpolation2d\n",
    "\n",
    "m = AntiAliasInterpolation2d(3, 0.25)\n",
    "input = torch.randn(1, 3, 256, 256)\n",
    "output = m(input)\n",
    "print(output.shape)"
   ]
  },
  {
   "cell_type": "code",
   "execution_count": 4,
   "metadata": {},
   "outputs": [
    {
     "name": "stdout",
     "output_type": "stream",
     "text": [
      "[Errno 2] No such file or directory: 'my_framework_1/content_encoder/modules'\n",
      "/root/TalkingHead/my_framework_1/content_encoder/modules\n",
      "torch.Size([1, 35, 64, 64])\n"
     ]
    }
   ],
   "source": [
    "%cd my_framework_1/content_encoder/modules\n",
    "\n",
    "import torch\n",
    "from net_module import Hourglass\n",
    "\n",
    "m = Hourglass(32, in_features=3, max_features=1024, num_blocks=5)\n",
    "input = torch.randn(1, 3, 64, 64)\n",
    "output = m(input)\n",
    "print(output.shape)"
   ]
  },
  {
   "cell_type": "code",
   "execution_count": 11,
   "metadata": {},
   "outputs": [
    {
     "name": "stdout",
     "output_type": "stream",
     "text": [
      "[Errno 2] No such file or directory: 'my_framework_1/content_encoder/modules'\n",
      "/root/TalkingHead/my_framework_1/content_encoder/modules\n",
      "torch.Size([1, 11, 64, 64])\n",
      "torch.Size([1, 11, 3, 64, 64])\n",
      "torch.Size([1, 1, 64, 64])\n",
      "torch.Size([1, 3, 256, 256])\n",
      "torch.Size([1, 3, 256, 256])\n"
     ]
    }
   ],
   "source": [
    "%cd my_framework_1/content_encoder/modules\n",
    "\n",
    "import torch\n",
    "from net_module import OcclusionAwareGenerator\n",
    "\n",
    "dense_motion_params = {\n",
    "    \"block_expansion\":64,\n",
    "    \"num_blocks\": 5,\n",
    "    \"max_features\": 1024,\n",
    "    # \"num_kp\": 10,\n",
    "    # \"num_channels\": 3,\n",
    "    # \"estimate_occlusion_map\": True,\n",
    "    \"scale_factor\": 0.25\n",
    "}\n",
    "#(64,5,1024,10,3,True,0.25,0.01)\n",
    "\n",
    "m = OcclusionAwareGenerator(3, 10, block_expansion=64, max_features=512, num_down_blocks=2,\n",
    "                 num_bottleneck_blocks=6, estimate_occlusion_map=True, \n",
    "                 dense_motion_params=dense_motion_params, estimate_jacobian=True)\n",
    "source_image = torch.randn(1, 3, 256, 256)\n",
    "kp_driving = {\n",
    "    \"heatmap\": torch.randn(1, 10, 58, 58),\n",
    "    \"jacobian\": torch.randn(1, 10, 2, 2),\n",
    "    \"value\": torch.randn(1, 10, 2)\n",
    "}\n",
    "kp_source = {\n",
    "    \"heatmap\": torch.randn(1, 10, 58, 58),\n",
    "    \"jacobian\": torch.randn(1, 10, 2, 2),\n",
    "    \"value\": torch.randn(1, 10, 2)\n",
    "}\n",
    "output = m(source_image, kp_driving, kp_source)\n",
    "print(output[\"mask\"].shape)\n",
    "print(output[\"sparse_deformed\"].shape)\n",
    "print(output[\"occlusion_map\"].shape)\n",
    "print(output[\"deformed\"].shape)\n",
    "print(output[\"prediction\"].shape)"
   ]
  }
 ],
 "metadata": {
  "kernelspec": {
   "display_name": "Python 3.8.13 ('talkinghead': conda)",
   "language": "python",
   "name": "python3"
  },
  "language_info": {
   "codemirror_mode": {
    "name": "ipython",
    "version": 3
   },
   "file_extension": ".py",
   "mimetype": "text/x-python",
   "name": "python",
   "nbconvert_exporter": "python",
   "pygments_lexer": "ipython3",
   "version": "3.8.13"
  },
  "orig_nbformat": 4,
  "vscode": {
   "interpreter": {
    "hash": "96200a72854584a0f5d9e7b4fe8bac1d340a92388ad3ea682dd329b12452871f"
   }
  }
 },
 "nbformat": 4,
 "nbformat_minor": 2
}
